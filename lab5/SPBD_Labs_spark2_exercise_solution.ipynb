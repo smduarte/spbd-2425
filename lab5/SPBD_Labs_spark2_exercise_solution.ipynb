{
  "cells": [
    {
      "cell_type": "markdown",
      "metadata": {
        "id": "view-in-github",
        "colab_type": "text"
      },
      "source": [
        "<a href=\"https://colab.research.google.com/github/smduarte/spbd-2223/blob/main/lab5/SPBD_Labs_spark2_exercise_solution.ipynb\" target=\"_parent\"><img src=\"https://colab.research.google.com/assets/colab-badge.svg\" alt=\"Open In Colab\"/></a>"
      ]
    },
    {
      "cell_type": "markdown",
      "metadata": {
        "id": "CtsPM1Z4HH7M"
      },
      "source": [
        "# Python Spark Dataframes Exercises\n"
      ]
    },
    {
      "cell_type": "code",
      "source": [
        "#@title Install Pyspark\n",
        "!pip install --quiet pyspark"
      ],
      "metadata": {
        "id": "BuFS4wO2B1vr"
      },
      "execution_count": 9,
      "outputs": []
    },
    {
      "cell_type": "code",
      "source": [
        "#@title Download \"Os Maias\"\n",
        "!wget -q -O os_maias.txt https://www.dropbox.com/s/n24v0z7y79np319/os_maias.txt?dl=0"
      ],
      "metadata": {
        "id": "GEn0_HxQHDlx"
      },
      "execution_count": 10,
      "outputs": []
    },
    {
      "cell_type": "markdown",
      "source": [
        "##1. Sorted Word Frequency\n",
        "\n",
        "1.1) Create a [Spark Dataframes](https://spark.apache.org/docs/latest/api/python/reference/pyspark.sql/index.html) program that counts the number of occurrences of each word in \"Os Maias\" novel, sorting them by frequency (the words with higher occurrence first). \n"
      ],
      "metadata": {
        "id": "f7oXYnylGyko"
      }
    },
    {
      "cell_type": "code",
      "source": [
        "from pyspark.sql import *\n",
        "from pyspark.sql.types import *\n",
        "from pyspark.sql.functions import *\n",
        "\n",
        "spark = SparkSession.builder.master('local[*]').appName('words').getOrCreate()\n",
        "sc = spark.sparkContext\n",
        "\n",
        "try :\n",
        "  lines = sc.textFile('os_maias.txt') \\\n",
        "  .filter( lambda line : len(line) > 1 )\n",
        "\n",
        "  structured_lines = lines.map( lambda line : Row( line = line, listOfWords = line.split(' ') ) )\n",
        "  \n",
        "  wordsOfLine = spark.createDataFrame( structured_lines )\n",
        "  \n",
        "  x = wordsOfLine.select(explode(\"listOfWords\").alias('words')) \\\n",
        "      .groupBy('words').count() \\\n",
        "      .orderBy('count', ascending=False)\n",
        "\n",
        "  \n",
        "  x.show(5)\n",
        "except Exception as err:\n",
        "  print(err)\n",
        "  sc.stop()"
      ],
      "metadata": {
        "id": "qMFaHhpWHxkB",
        "outputId": "e7c10089-feb5-4442-872a-b4a22dbe39f1",
        "colab": {
          "base_uri": "https://localhost:8080/"
        }
      },
      "execution_count": 11,
      "outputs": [
        {
          "output_type": "stream",
          "name": "stdout",
          "text": [
            "+-----+-----+\n",
            "|words|count|\n",
            "+-----+-----+\n",
            "|   de| 8308|\n",
            "|    a| 6720|\n",
            "|    o| 6602|\n",
            "|  que| 4846|\n",
            "|    e| 4441|\n",
            "+-----+-----+\n",
            "only showing top 5 rows\n",
            "\n"
          ]
        }
      ]
    },
    {
      "cell_type": "markdown",
      "source": [
        "1.2) Create a Spark Dataframes program that computes the top 10 most used words in \"Os Maias\" novel."
      ],
      "metadata": {
        "id": "UkI4QSo8Ua35"
      }
    },
    {
      "cell_type": "code",
      "source": [
        "from pyspark.sql import *\n",
        "from pyspark.sql.types import *\n",
        "from pyspark.sql.functions import *\n",
        "\n",
        "spark = SparkSession.builder.master('local[*]').appName('words').getOrCreate()\n",
        "sc = spark.sparkContext\n",
        "\n",
        "try :\n",
        "  lines = sc.textFile('os_maias.txt') \\\n",
        "  .filter( lambda line : len(line) > 1 )\n",
        "\n",
        "  structured_lines = lines.map( lambda line : Row( line = line, listOfWords = line.split(' ') ) )\n",
        "  \n",
        "  wordsOfLine = spark.createDataFrame( structured_lines )\n",
        "  \n",
        "  x = wordsOfLine.select(explode(\"listOfWords\").alias('words')) \\\n",
        "      .groupBy('words').count() \\\n",
        "      .orderBy('count', ascending=False) \\\n",
        "      .limit(10)\n",
        "\n",
        "  \n",
        "  x.show()\n",
        "except Exception as err:\n",
        "  print(err)\n",
        "  sc.stop()"
      ],
      "metadata": {
        "id": "jocH9TZyUbMF",
        "outputId": "0cffbd81-b6e6-49cb-9d6f-ccbd94bd9a12",
        "colab": {
          "base_uri": "https://localhost:8080/"
        }
      },
      "execution_count": 12,
      "outputs": [
        {
          "output_type": "stream",
          "name": "stdout",
          "text": [
            "+-----+-----+\n",
            "|words|count|\n",
            "+-----+-----+\n",
            "|   de| 8308|\n",
            "|    a| 6720|\n",
            "|    o| 6602|\n",
            "|  que| 4846|\n",
            "|    e| 4441|\n",
            "|    -| 3535|\n",
            "|   um| 3004|\n",
            "|  com| 2792|\n",
            "|   do| 2564|\n",
            "|   da| 2200|\n",
            "+-----+-----+\n",
            "\n"
          ]
        }
      ]
    },
    {
      "cell_type": "markdown",
      "source": [
        "##2. Weblog Analysis\n",
        "\n",
        "Consider a set of log files captured during a DDOS (*Distributed Denial of Service*) attack, containing information for the web accesses performed during the attack to the server.\n",
        "\n",
        "The log files contain text lines as shown below, with TAB as the separator:\n",
        "\n",
        "date |IP_source | status_code | operation | URL | execution time |\n",
        "-|-|-|-|-|-\n",
        "timestamp  | string | int | string | string| float |\n",
        "2016-12-06T08:58:35.318+0000|37.139.9.11|404|GET|/codemove/TTCENCUFMH3C|0.026"
      ],
      "metadata": {
        "id": "rsJZWYlHZDJL"
      }
    },
    {
      "cell_type": "code",
      "source": [
        "#@title Download the dataset\n",
        "!wget -q -O web.log https://www.dropbox.com/s/0r8902uj9yum7dg/web.log?dl=0\n",
        "!head -1 web.log"
      ],
      "metadata": {
        "id": "WCWKj68qCOdA",
        "outputId": "dce06da6-2ccd-4333-8d2b-9de677abb883",
        "colab": {
          "base_uri": "https://localhost:8080/"
        }
      },
      "execution_count": 13,
      "outputs": [
        {
          "output_type": "stream",
          "name": "stdout",
          "text": [
            "2016-12-06T08:58:35.318+0000 37.139.9.11 404 GET /codemove/TTCENCUFMH3C 0.026  \n"
          ]
        }
      ]
    },
    {
      "cell_type": "markdown",
      "source": [
        "2.1. Count the number of unique IP addresses involved in the DDOS attack.\n"
      ],
      "metadata": {
        "id": "N1-ojIAqCftf"
      }
    },
    {
      "cell_type": "code",
      "source": [
        "from pyspark.sql import *\n",
        "from pyspark.sql.types import *\n",
        "from pyspark.sql.functions import *\n",
        "\n",
        "spark = SparkSession.builder.master('local[*]') \\\n",
        "\t\t\t\t\t\t.appName('weblog').getOrCreate()\n",
        "sc = spark.sparkContext\n",
        "try :\n",
        "    lines = sc.textFile('web.log')\n",
        "    logRows = lines.filter( lambda line : len(line) > 0 ) \\\n",
        "                   .map( lambda line : line.split(' ') ) \\\n",
        "                   .map( lambda l : Row( date = l[0], \\\n",
        "\t\t\t\t    \t\t            ipSource = l[1], retValue = l[2], \\\n",
        "                            op = l[3], url = l[4], time = float(l[5])))\n",
        "                   \n",
        "    logRowsDF = spark.createDataFrame( logRows )\n",
        "    countIps = logRowsDF.select('ipSource').distinct().count()\n",
        "    \n",
        "    print(countIps)\n",
        "    sc.stop()\n",
        "except Exception as err:\n",
        "    print(err)\n",
        "    sc.stop()"
      ],
      "metadata": {
        "id": "Y7XoyNETChb-",
        "outputId": "45d5f044-29d5-407e-90d1-0d9a5312c56e",
        "colab": {
          "base_uri": "https://localhost:8080/"
        }
      },
      "execution_count": 14,
      "outputs": [
        {
          "output_type": "stream",
          "name": "stdout",
          "text": [
            "167\n"
          ]
        }
      ]
    },
    {
      "cell_type": "markdown",
      "source": [
        "2.2. For each interval of 10 seconds, provide the following information: [number of requests, average execution time, maximum time, minimum time]"
      ],
      "metadata": {
        "id": "ZJ5TzPdACgQ-"
      }
    },
    {
      "cell_type": "code",
      "source": [
        "from pyspark.sql import *\n",
        "from pyspark.sql.types import *\n",
        "from pyspark.sql.functions import *\n",
        "\n",
        "spark = SparkSession.builder.master('local[*]') \\\n",
        "\t\t\t\t\t\t.appName('weblog').getOrCreate()\n",
        "sc = spark.sparkContext\n",
        "try :\n",
        "    lines = sc.textFile('web.log')\n",
        "    logRows = lines.filter( lambda line : len(line) > 0 ) \\\n",
        "                   .map( lambda line : line.split(' ') ) \\\n",
        "                   .map( lambda l : Row( date = l[0], \\\n",
        "\t\t\t\t    \t\t            ipSource = l[1], retValue = l[2], \\\n",
        "                            op = l[3], url = l[4], time = float(l[5])))\n",
        "                   \n",
        "                   \n",
        "    interval = udf(lambda timestamp: timestamp[0:18], StringType())\n",
        "\n",
        "\n",
        "    logRowsDF = spark.createDataFrame( logRows )\n",
        "    intervals = logRowsDF.select(interval('date').alias(\"interval\"), \"time\")\n",
        "    x = intervals.groupBy('interval').agg( count('*').alias('count'), avg('time'), min('time'), max('time')) \\\n",
        "        .orderBy('interval')\n",
        "\n",
        "    x.show(10)\n",
        "    sc.stop()\n",
        "except Exception as err:\n",
        "    print(err)\n",
        "    sc.stop()"
      ],
      "metadata": {
        "id": "M8UVCwcdCwTG",
        "outputId": "72fbfe54-1137-4463-ec75-d5cde0ca1b2c",
        "colab": {
          "base_uri": "https://localhost:8080/"
        }
      },
      "execution_count": 15,
      "outputs": [
        {
          "output_type": "stream",
          "name": "stdout",
          "text": [
            "+------------------+-----+------------------+---------+---------+\n",
            "|          interval|count|         avg(time)|min(time)|max(time)|\n",
            "+------------------+-----+------------------+---------+---------+\n",
            "|2016-12-06T08:58:3|  483|7.5934244306418215|    0.013|   46.849|\n",
            "|2016-12-06T08:58:4| 2611|30.159845653006503|    0.014|   69.654|\n",
            "|2016-12-06T08:58:5| 5500| 38.52511163636371|    0.017|   80.846|\n",
            "|2016-12-06T08:59:0| 6914| 38.53438212322824|    0.018|   81.659|\n",
            "|2016-12-06T08:59:1| 6271| 32.96384978472328|    0.017|   83.993|\n",
            "|2016-12-06T08:59:2| 5434| 17.29333143172616|    0.051|   77.967|\n",
            "|2016-12-06T08:59:3| 8015|11.210152214597631|    0.056|   67.441|\n",
            "|2016-12-06T08:59:4| 7947| 7.761815779539431|    0.914|   65.706|\n",
            "|2016-12-06T08:59:5| 5983| 3.821664382416849|    0.678|    54.29|\n",
            "|2016-12-06T09:00:0| 6882| 8.649971519907023|    0.017|   45.314|\n",
            "+------------------+-----+------------------+---------+---------+\n",
            "only showing top 10 rows\n",
            "\n"
          ]
        }
      ]
    },
    {
      "cell_type": "markdown",
      "source": [
        "2.3. Create an inverted index that, for each interval of 10 seconds, has a list of (unique) IPs executing accesses (to each URL)."
      ],
      "metadata": {
        "id": "jUHmctaICgtV"
      }
    },
    {
      "cell_type": "code",
      "source": [
        "from pyspark.sql import *\n",
        "from pyspark.sql.types import *\n",
        "from pyspark.sql.functions import *\n",
        "\n",
        "spark = SparkSession.builder.master('local[*]') \\\n",
        "\t\t\t\t\t\t.appName('weblog').getOrCreate()\n",
        "sc = spark.sparkContext\n",
        "try :\n",
        "    lines = sc.textFile('web.log')\n",
        "    logRows = lines.filter( lambda line : len(line) > 0 ) \\\n",
        "                   .map( lambda line : line.split(' ') ) \\\n",
        "                   .map( lambda l : Row( date = l[0], \\\n",
        "\t\t\t\t    \t\t            ipSource = l[1], retValue = l[2], \\\n",
        "                            op = l[3], url = l[4], time = float(l[5])))\n",
        "                   \n",
        "                   \n",
        "    interval = udf(lambda timestamp: timestamp[0:18], StringType())\n",
        "\n",
        "    countIps = udf( lambda l : len(l))\n",
        "\n",
        "    logRowsDF = spark.createDataFrame( logRows )\n",
        "    intervals = logRowsDF.select(interval('date').alias(\"interval\"), 'ipSource', \"url\")\n",
        "    \n",
        "    stats = intervals.groupBy('interval', 'url').agg( collect_set('ipSource').alias('ips')) \\\n",
        "    .orderBy('interval', 'url', ascending=False) \n",
        "\n",
        "    #stats = intervals.groupBy('interval', 'url').agg( collect_set('ipSource').alias('ips')) \\\n",
        "    #.select( \"*\", countIps('ips').alias('#ips')).orderBy('interval', 'url', '#ips', ascending=False)\n",
        "\n",
        "    stats.show(10)\n",
        "\n",
        "    sc.stop()\n",
        "except Exception as err:\n",
        "    print(err)\n",
        "    sc.stop()"
      ],
      "metadata": {
        "id": "RpXghha0C0jC",
        "outputId": "aa6d08cc-13a8-4ac0-f03d-1d9d970432f2",
        "colab": {
          "base_uri": "https://localhost:8080/"
        }
      },
      "execution_count": 24,
      "outputs": [
        {
          "output_type": "stream",
          "name": "stdout",
          "text": [
            "+------------------+--------------------+--------------------+\n",
            "|          interval|                 url|                 ips|\n",
            "+------------------+--------------------+--------------------+\n",
            "|2016-12-06T10:03:2|/codemove/9JVQI8T...|[106.37.189.69, 1...|\n",
            "|2016-12-06T10:03:2|/codemove/79SC2H8...|[106.37.189.69, 1...|\n",
            "|2016-12-06T10:03:1|/codemove/NCZX4FB...|[106.37.189.69, 2...|\n",
            "|2016-12-06T10:03:1|/codemove/9JVQI8T...|[106.37.189.69, 2...|\n",
            "|2016-12-06T10:03:1|/codemove/79SC2H8...|[106.37.189.69, 2...|\n",
            "|2016-12-06T10:03:0|/codemove/NCZX4FB...|[106.37.189.69, 1...|\n",
            "|2016-12-06T10:03:0|/codemove/9JVQI8T...|[106.37.189.69, 1...|\n",
            "|2016-12-06T10:03:0|/codemove/79SC2H8...|[106.37.189.69, 1...|\n",
            "|2016-12-06T10:02:5|/codemove/9JVQI8T...|[106.37.189.69, 1...|\n",
            "|2016-12-06T10:02:5|/codemove/79SC2H8...|[106.37.189.69, 2...|\n",
            "+------------------+--------------------+--------------------+\n",
            "only showing top 10 rows\n",
            "\n"
          ]
        }
      ]
    },
    {
      "cell_type": "markdown",
      "source": [
        "2.3. Create an inverted index that, for each interval of 15 seconds, has a list of (unique) IPs executing accesses (to each URL)."
      ],
      "metadata": {
        "id": "tpLWhBuRhpE-"
      }
    },
    {
      "cell_type": "code",
      "source": [
        "from pyspark.sql import *\n",
        "from pyspark.sql.types import *\n",
        "from pyspark.sql.functions import *\n",
        "\n",
        "from dateutil.parser import parse\n",
        "\n",
        "origin = parse('2016-12-06T08:58:35.318+0000').timestamp()\n",
        "\n",
        "spark = SparkSession.builder.master('local[*]') \\\n",
        "\t\t\t\t\t\t.appName('weblog').getOrCreate()\n",
        "sc = spark.sparkContext\n",
        "try :\n",
        "    lines = sc.textFile('web.log')\n",
        "    logRows = lines.filter( lambda line : len(line) > 0 ) \\\n",
        "                   .map( lambda line : line.split(' ') ) \\\n",
        "                   .map( lambda l : Row( date = l[0], \\\n",
        "\t\t\t\t    \t\t            ipSource = l[1], retValue = l[2], \\\n",
        "                            op = l[3], url = l[4], time = float(l[5])))\n",
        "                  \n",
        "    logRowsDF = spark.createDataFrame( logRows )\n",
        "\n",
        "    # use window() to define the interval\n",
        "    intervals = logRowsDF.select(col('date'), 'ipSource', \"url\") \\\n",
        "        .select('*', window(\"date\", \"15 seconds\").alias('interval'))\n",
        "    \n",
        "    stats = intervals.groupBy('interval', 'url').agg( collect_set('ipSource').alias('ips')) \\\n",
        "    .select( \"*\", countIps('ips').alias('#ips')).orderBy('#ips', ascending=False)\n",
        "\n",
        "    stats.show(10)\n",
        "\n",
        "    sc.stop()\n",
        "except Exception as err:\n",
        "    print(err)\n",
        "    sc.stop()"
      ],
      "metadata": {
        "id": "_uRu80x9mE0_",
        "outputId": "10b62726-c9d9-4dc5-dc25-a627ad547e0a",
        "colab": {
          "base_uri": "https://localhost:8080/"
        }
      },
      "execution_count": 28,
      "outputs": [
        {
          "output_type": "stream",
          "name": "stdout",
          "text": [
            "+--------------------+--------------------+--------------------+----+\n",
            "|            interval|                 url|                 ips|#ips|\n",
            "+--------------------+--------------------+--------------------+----+\n",
            "|{2016-12-06 09:01...|/codemove/JUANR8S...|[95.128.43.164, 1...|   8|\n",
            "|{2016-12-06 09:02...|/codemove/JUANR8S...|[185.69.154.59, 5...|   5|\n",
            "|{2016-12-06 09:02...|/codemove/C11AWNK...|[185.69.154.59, 2...|   5|\n",
            "|{2016-12-06 09:01...|/codemove/JUANR8S...|[163.172.67.180, ...|   4|\n",
            "|{2016-12-06 10:02...|/codemove/79SC2H8...|[106.37.189.69, 2...|   3|\n",
            "|{2016-12-06 10:01...|/codemove/2J6KRPS...|[106.37.189.69, 2...|   3|\n",
            "|{2016-12-06 10:01...|/codemove/2J6KRPS...|[106.37.189.69, 2...|   3|\n",
            "|{2016-12-06 10:02...|/codemove/79SC2H8...|[106.37.189.69, 2...|   3|\n",
            "|{2016-12-06 10:02...|/codemove/LHWWNO3...|[106.37.189.69, 2...|   3|\n",
            "|{2016-12-06 10:01...|/codemove/2J6KRPS...|[106.37.189.69, 2...|   3|\n",
            "+--------------------+--------------------+--------------------+----+\n",
            "only showing top 10 rows\n",
            "\n"
          ]
        }
      ]
    }
  ],
  "metadata": {
    "kernelspec": {
      "display_name": "Python 3",
      "language": "python",
      "name": "python3"
    },
    "language_info": {
      "codemirror_mode": {
        "name": "ipython",
        "version": 3
      },
      "file_extension": ".py",
      "mimetype": "text/x-python",
      "name": "python",
      "nbconvert_exporter": "python",
      "pygments_lexer": "ipython3",
      "version": "3.7.3"
    },
    "colab": {
      "provenance": [],
      "collapsed_sections": [],
      "include_colab_link": true
    }
  },
  "nbformat": 4,
  "nbformat_minor": 0
}