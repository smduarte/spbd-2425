{
  "nbformat": 4,
  "nbformat_minor": 0,
  "metadata": {
    "colab": {
      "provenance": [],
      "include_colab_link": true
    },
    "kernelspec": {
      "name": "python3",
      "display_name": "Python 3"
    },
    "language_info": {
      "name": "python"
    }
  },
  "cells": [
    {
      "cell_type": "markdown",
      "metadata": {
        "id": "view-in-github",
        "colab_type": "text"
      },
      "source": [
        "<a href=\"https://colab.research.google.com/github/smduarte/spbd-2425/blob/main/docs/labs/projs/spbd2425_tp2.ipynb\" target=\"_parent\"><img src=\"https://colab.research.google.com/assets/colab-badge.svg\" alt=\"Open In Colab\"/></a>"
      ]
    },
    {
      "cell_type": "markdown",
      "metadata": {
        "id": "KgFZlT_g8O1Y"
      },
      "source": [
        "# Sistemas para Processamento de Big Data\n",
        "## TP2 - Energy Meter Live Monitoring\n"
      ]
    },
    {
      "cell_type": "markdown",
      "source": [
        "The sensor data corresponds to regular readings from 11 residential energy meters. The data covers the month of February 2024.\n",
        "\n",
        "Each data sample has the following schema:\n",
        "\n",
        "timestamp | sensor_id | energy\n",
        "----------|-------------|-----------\n",
        "timestamp | string  | float\n",
        "\n",
        "Each energy value (KWh) corresponds to the accumulated value of the meter at the time of measurement. As such,\n",
        "each meter is expected to produce a monotonically increasing series of pairs of timestamp and energy consummed up to that moment.\n",
        "\n",
        "The meters do not start at zero or at the same value.\n"
      ],
      "metadata": {
        "id": "IRDJq9dL0GWA"
      }
    },
    {
      "cell_type": "markdown",
      "source": [
        "## Questions\n",
        "\n",
        "For all the sensors combined:\n",
        "\n",
        "1. For the current month and current day, compute the running total energy consumed so far. The values should be updated every 5 minutes.\n",
        "\n",
        "2. For the current month and current day, compute the running total energy consumed so far, **as a percentage**, **compared to the same periods in February 2024**. The values should be updated every 5 minutes.\n",
        "\n",
        "For each sensor, separately:\n",
        "\n",
        "3. For the current month and current day, compute the running total energy consumed so far, as a percentage, **comparing the value of each individual sensor, relative to the same results for all the sensors together (as in #1)**. The values should be updated every 5 minutes. (Sorted in descending order by value and sensor.)\n",
        "\n"
      ],
      "metadata": {
        "id": "HC6tMDOU7Fdb"
      }
    },
    {
      "cell_type": "markdown",
      "source": [
        "## Requeriments\n",
        "\n",
        "Solve each question using Structured Spark Streaming."
      ],
      "metadata": {
        "id": "kdTj-7SD-67o"
      }
    },
    {
      "cell_type": "markdown",
      "source": [
        "## Other Grading Criteria\n",
        "\n",
        "+ Grading will also take into account the general clarity of the programming and of the presentation report (notebook).\n",
        "\n",
        "\n"
      ],
      "metadata": {
        "id": "qN2ogthr_EIH"
      }
    },
    {
      "cell_type": "markdown",
      "source": [
        "### Deadline\n",
        "\n",
        "December 6.\n",
        "\n",
        "Penalty of 0.25 grade points per day late.\n",
        "\n",
        "Penalty accumulates until the grade of the assignment reaches 8.0."
      ],
      "metadata": {
        "id": "8M6lYfT_BpAO"
      }
    },
    {
      "cell_type": "markdown",
      "source": [
        "---\n",
        "### Colab Setup\n"
      ],
      "metadata": {
        "id": "81dR9BTgBg1s"
      }
    },
    {
      "cell_type": "code",
      "source": [
        "#@title Install PySpark\n",
        "!pip install pyspark --quiet\n"
      ],
      "metadata": {
        "id": "L2O_3I3x1dbx",
        "colab": {
          "base_uri": "https://localhost:8080/",
          "height": 35
        },
        "outputId": "622e85c8-e838-4c37-c15c-b7ce5e5646ff"
      },
      "execution_count": 1,
      "outputs": [
        {
          "output_type": "execute_result",
          "data": {
            "text/plain": [
              "'/usr/local/lib/python3.10/dist-packages/pyspark'"
            ],
            "application/vnd.google.colaboratory.intrinsic+json": {
              "type": "string"
            }
          },
          "metadata": {},
          "execution_count": 1
        }
      ]
    },
    {
      "cell_type": "markdown",
      "source": [
        "The python code below shows the basics needed to process JSON data from a socket source using PySpark.\n",
        "\n",
        "Spark Streaming python documentation is found [here](https://spark.apache.org/docs/latest/api/python/reference/pyspark.streaming.html)\n",
        "\n",
        "---\n",
        "#### PySpark Kafka Stream Example\n"
      ],
      "metadata": {
        "id": "1wihC26vaiT1"
      }
    },
    {
      "cell_type": "code",
      "source": [
        "#@title Download Archived February Energy Readings\n",
        "!wget -q -O /tmp/readings.csv https://raw.githubusercontent.com/smduarte/spbd-2425/refs/heads/main/docs/labs/projs/energy-readings.csv\n",
        "!grep \"2024-02\" /tmp/readings.csv > february-energy-readings.csv\n",
        "!head -2 february-energy-readings.csv\n"
      ],
      "metadata": {
        "colab": {
          "base_uri": "https://localhost:8080/"
        },
        "id": "w38DVs9wBhhu",
        "outputId": "c9ccabc2-7392-4968-bdca-8cf7a26ea901"
      },
      "execution_count": 8,
      "outputs": [
        {
          "output_type": "stream",
          "name": "stdout",
          "text": [
            "2024-02-01 00:00:00;D;2615.0\n",
            "2024-02-01 00:00:18;C;1098.8\n"
          ]
        }
      ]
    },
    {
      "cell_type": "code",
      "source": [
        "#@title Start the Structured Source\n",
        "\n",
        "!wget -q -O - https://github.com/smduarte/spbd-2425/raw/main/scripts/json_energy_sender.tgz  | tar xfz - 2> /dev/null\n",
        "\n",
        "!nohup python json_energy_sender/server.py --filename json_energy_sender/energy-readings.csv --speedup 60 > /dev/null 2> /dev/null &"
      ],
      "metadata": {
        "id": "n4fbaIE0vedz"
      },
      "execution_count": 2,
      "outputs": []
    },
    {
      "cell_type": "code",
      "source": [
        "from pyspark.sql import *\n",
        "from pyspark.sql.functions import *\n",
        "\n",
        "spark = SparkSession \\\n",
        "    .builder \\\n",
        "    .appName(\"StructuredWebLogExample\") \\\n",
        "    .getOrCreate()\n",
        "\n",
        "\n",
        "# Extract a sample JSON string to infer schema\n",
        "sample_json = '{\"date\": \"2024-02-01 00:00:00\", \"sensor\": \"D\", \"energy\": 2615.0}'\n",
        "inferred_schema = schema_of_json(sample_json)\n",
        "\n",
        "\n",
        "# Create DataFrame representing the stream of input\n",
        "# lines from connection to logsender 7777\n",
        "try:\n",
        "  json_lines = spark.readStream.format(\"socket\") \\\n",
        "      .option(\"host\", \"localhost\") \\\n",
        "      .option(\"port\", 7777) \\\n",
        "      .load()\n",
        "\n",
        "  # Parse the JSON using the inferred schema\n",
        "  json_lines = json_lines.withColumn(\"json_data\", from_json(col(\"value\"), inferred_schema)) \\\n",
        "    .select(\"json_data.*\")  # Expand the JSON fields into columns\n",
        "\n",
        "\n",
        "  query = json_lines \\\n",
        "    .writeStream \\\n",
        "    .outputMode(\"append\") \\\n",
        "    .trigger(processingTime='1 seconds') \\\n",
        "    .foreachBatch(lambda df, epoch: df.show(10, False)) \\\n",
        "    .start()\n",
        "\n",
        "  query.awaitTermination(60)\n",
        "except Exception as err:\n",
        "  print(err)\n",
        "  query.stop()"
      ],
      "metadata": {
        "colab": {
          "base_uri": "https://localhost:8080/"
        },
        "id": "5pzi95IkvgEZ",
        "outputId": "3727a2a4-2209-4969-a61f-707c82d2e09c"
      },
      "execution_count": 3,
      "outputs": [
        {
          "output_type": "stream",
          "name": "stdout",
          "text": [
            "+----+------+------+\n",
            "|date|energy|sensor|\n",
            "+----+------+------+\n",
            "+----+------+------+\n",
            "\n",
            "+-------------------+-------+------+\n",
            "|date               |energy |sensor|\n",
            "+-------------------+-------+------+\n",
            "|2024-10-01 00:04:21|2790.18|C     |\n",
            "|2024-10-01 00:04:27|5949.0 |D     |\n",
            "|2024-10-01 00:04:36|2162.37|J     |\n",
            "|2024-10-01 00:04:52|2682.69|I     |\n",
            "|2024-10-01 00:04:24|3993.9 |H     |\n",
            "|2024-10-01 00:04:33|3481.07|E     |\n",
            "|2024-10-01 00:04:43|1597.49|F     |\n",
            "+-------------------+-------+------+\n",
            "\n",
            "+-------------------+-------+------+\n",
            "|date               |energy |sensor|\n",
            "+-------------------+-------+------+\n",
            "|2024-10-01 00:14:30|2790.19|C     |\n",
            "|2024-10-01 00:14:42|3481.08|E     |\n",
            "|2024-10-01 00:14:48|1668.96|B     |\n",
            "|2024-10-01 00:14:54|1649.25|A     |\n",
            "|2024-10-01 00:14:36|5949.1 |D     |\n",
            "|2024-10-01 00:14:45|2162.5 |J     |\n",
            "|2024-10-01 00:14:51|1597.5 |F     |\n",
            "|2024-10-01 00:14:57|2080.99|G     |\n",
            "+-------------------+-------+------+\n",
            "\n",
            "+-------------------+-------+------+\n",
            "|date               |energy |sensor|\n",
            "+-------------------+-------+------+\n",
            "|2024-10-01 00:15:00|2682.71|I     |\n",
            "+-------------------+-------+------+\n",
            "\n",
            "+-------------------+-------+------+\n",
            "|date               |energy |sensor|\n",
            "+-------------------+-------+------+\n",
            "|2024-10-01 00:24:38|2790.2 |C     |\n",
            "|2024-10-01 00:24:44|5949.1 |D     |\n",
            "|2024-10-01 00:24:57|1668.98|B     |\n",
            "|2024-10-01 00:24:41|3993.95|H     |\n",
            "|2024-10-01 00:24:51|3481.09|E     |\n",
            "+-------------------+-------+------+\n",
            "\n",
            "+-------------------+-------+------+\n",
            "|date               |energy |sensor|\n",
            "+-------------------+-------+------+\n",
            "|2024-10-01 00:25:03|1649.26|A     |\n",
            "|2024-10-01 00:25:09|2682.72|I     |\n",
            "|2024-10-01 00:25:06|2081.01|G     |\n",
            "+-------------------+-------+------+\n",
            "\n",
            "+-------------------+-------+------+\n",
            "|date               |energy |sensor|\n",
            "+-------------------+-------+------+\n",
            "|2024-10-01 00:34:47|2790.21|C     |\n",
            "|2024-10-01 00:34:53|5949.1 |D     |\n",
            "|2024-10-01 00:34:50|3993.96|H     |\n",
            "+-------------------+-------+------+\n",
            "\n",
            "+-------------------+-------+------+\n",
            "|date               |energy |sensor|\n",
            "+-------------------+-------+------+\n",
            "|2024-10-01 00:34:59|3481.1 |E     |\n",
            "|2024-10-01 00:35:06|1668.99|B     |\n",
            "|2024-10-01 00:35:12|1649.27|A     |\n",
            "|2024-10-01 00:35:18|2682.74|I     |\n",
            "|2024-10-01 00:35:03|2162.51|J     |\n",
            "|2024-10-01 00:35:09|1597.51|F     |\n",
            "|2024-10-01 00:35:15|2081.02|G     |\n",
            "+-------------------+-------+------+\n",
            "\n",
            "+-------------------+-------+------+\n",
            "|date               |energy |sensor|\n",
            "+-------------------+-------+------+\n",
            "|2024-10-01 00:44:56|2790.22|C     |\n",
            "+-------------------+-------+------+\n",
            "\n",
            "+-------------------+-------+------+\n",
            "|date               |energy |sensor|\n",
            "+-------------------+-------+------+\n",
            "|2024-10-01 00:44:59|3993.97|H     |\n",
            "|2024-10-01 00:45:20|1649.31|A     |\n",
            "|2024-10-01 00:45:02|5949.2 |D     |\n",
            "|2024-10-01 00:45:27|2682.75|I     |\n",
            "+-------------------+-------+------+\n",
            "\n",
            "+-------------------+-------+------+\n",
            "|date               |energy |sensor|\n",
            "+-------------------+-------+------+\n",
            "|2024-10-01 00:55:05|2790.24|C     |\n",
            "|2024-10-01 00:55:11|5949.2 |D     |\n",
            "|2024-10-01 00:55:17|3481.11|E     |\n",
            "|2024-10-01 00:55:26|1597.52|F     |\n",
            "|2024-10-01 00:55:08|3993.98|H     |\n",
            "|2024-10-01 00:55:14|2147.11|K     |\n",
            "|2024-10-01 00:55:20|2162.52|J     |\n",
            "|2024-10-01 00:55:29|1649.5 |A     |\n",
            "+-------------------+-------+------+\n",
            "\n"
          ]
        }
      ]
    }
  ]
}